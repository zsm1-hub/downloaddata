{
 "cells": [
  {
   "cell_type": "code",
   "execution_count": 3,
   "id": "fdf20cdc-9911-4f97-9e29-169ec87a8ea9",
   "metadata": {},
   "outputs": [
    {
     "name": "stderr",
     "output_type": "stream",
     "text": [
      "2024-08-28 16:16:28,883 INFO Welcome to the CDS.\n",
      " As per our announcements on the Forum, this instance of CDS will soon be decommissioned.\n",
      " Please update your cdsapi package to a version >=0.7.0, create an account on CDS-Beta and update your .cdsapirc file. We strongly recommend users to check our Guidelines at https://confluence.ecmwf.int/x/uINmFw\n",
      " The current legacy system will be kept for a while, but we will reduce resources gradually until full decommissioning in September 2024.\n",
      "2024-08-28 16:16:28,884 WARNING MOVE TO CDS-Beta\n",
      "2024-08-28 16:16:28,884 INFO Sending request to https://cds.climate.copernicus.eu/api/v2/resources/reanalysis-era5-single-levels\n",
      "2024-08-28 16:16:29,238 INFO Request is completed\n",
      "2024-08-28 16:16:29,238 INFO Downloading https://download-0010-clone.copernicus-climate.eu/cache-compute-0010/cache/data2/adaptor.mars.internal-1724831262.659587-17805-14-21e1fcbc-ca9a-4bc0-a71c-67d8544e0e0e.nc to /sugon7/zsm/croco_tools_xmd1204/downloaddata/ERA5/testERA5.nc (19.8M)\n",
      "2024-08-28 16:16:34,238 INFO Download rate 4M/s                                                                                                                                           \n"
     ]
    },
    {
     "data": {
      "text/plain": [
       "Result(content_length=20776856,content_type=application/x-netcdf,location=https://download-0010-clone.copernicus-climate.eu/cache-compute-0010/cache/data2/adaptor.mars.internal-1724831262.659587-17805-14-21e1fcbc-ca9a-4bc0-a71c-67d8544e0e0e.nc)"
      ]
     },
     "execution_count": 3,
     "metadata": {},
     "output_type": "execute_result"
    }
   ],
   "source": [
    "import cdsapi\n",
    "\n",
    "c = cdsapi.Client()\n",
    "\n",
    "c.retrieve(\n",
    "    'reanalysis-era5-single-levels',\n",
    "    {\n",
    "        'product_type': 'reanalysis',\n",
    "        'format': 'netcdf',\n",
    "        'variable': [\n",
    "            '10m_u_component_of_wind', '10m_v_component_of_wind', '2m_dewpoint_temperature',\n",
    "            '2m_temperature', 'mean_sea_level_pressure', 'mean_wave_direction',\n",
    "            'mean_wave_period', 'sea_surface_temperature', 'significant_height_of_combined_wind_waves_and_swell',\n",
    "            'surface_pressure',\n",
    "        ],\n",
    "        'year': '1940',\n",
    "        'month': '01',\n",
    "        'day': '01',\n",
    "        'time': '00:00',\n",
    "    },\n",
    "    '/sugon7/zsm/croco_tools_xmd1204/downloaddata/ERA5/testERA5.nc')"
   ]
  },
  {
   "cell_type": "code",
   "execution_count": null,
   "id": "cd750887-bc3f-4387-805f-9dd362188b4e",
   "metadata": {},
   "outputs": [],
   "source": []
  }
 ],
 "metadata": {
  "kernelspec": {
   "display_name": "Python 3 (ipykernel)",
   "language": "python",
   "name": "python3"
  },
  "language_info": {
   "codemirror_mode": {
    "name": "ipython",
    "version": 3
   },
   "file_extension": ".py",
   "mimetype": "text/x-python",
   "name": "python",
   "nbconvert_exporter": "python",
   "pygments_lexer": "ipython3",
   "version": "3.12.3"
  }
 },
 "nbformat": 4,
 "nbformat_minor": 5
}
